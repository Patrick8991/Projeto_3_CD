{
 "cells": [
  {
   "cell_type": "markdown",
   "metadata": {},
   "source": [
    "# Projeto 3\n",
    "### Análise de dados demográficos"
   ]
  },
  {
   "cell_type": "markdown",
   "metadata": {},
   "source": [
    "___\n",
    "#### <font color='red'>Leonardo Lamounier Grotti e Patrick Serrano Wiegerinck</font>"
   ]
  },
  {
   "cell_type": "markdown",
   "metadata": {},
   "source": [
    "## Introdução"
   ]
  },
  {
   "cell_type": "markdown",
   "metadata": {},
   "source": [
    "A variável resposta escolhida foi expectativa de vida, que foi relacionada com o PIB per capita e com a porcentagem de população em áreas urbanas, variáveis explicativas.   \n",
    "\n",
    "Ao relacionar o PIB com a expectativa de vida, nosso objetivo era ver se havia alguma relação entre a situação financeira de um país com a expectativa de vida de sua população. Com a ajuda do site gapminder.org pudemos perceber que conforme o PIB de um país aumentava a sua expectativa de vida crescia também provando a existência de uma correlação. Além disso essas variáveis  \n",
    "\n"
   ]
  },
  {
   "cell_type": "markdown",
   "metadata": {},
   "source": []
  },
  {
   "cell_type": "markdown",
   "metadata": {},
   "source": []
  }
 ],
 "metadata": {
  "kernelspec": {
   "display_name": "Python 3",
   "language": "python",
   "name": "python3"
  },
  "language_info": {
   "codemirror_mode": {
    "name": "ipython",
    "version": 3
   },
   "file_extension": ".py",
   "mimetype": "text/x-python",
   "name": "python",
   "nbconvert_exporter": "python",
   "pygments_lexer": "ipython3",
   "version": "3.5.2"
  }
 },
 "nbformat": 4,
 "nbformat_minor": 0
}
