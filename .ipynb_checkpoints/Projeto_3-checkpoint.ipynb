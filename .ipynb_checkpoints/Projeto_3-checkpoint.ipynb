{
 "cells": [
  {
   "cell_type": "markdown",
   "metadata": {},
   "source": [
    "# Projeto 3\n",
    "### Análise de dados demográficos"
   ]
  },
  {
   "cell_type": "markdown",
   "metadata": {},
   "source": [
    "___\n",
    "#### <font color='red'>Leonardo Lamounier Grotti e Patrick Serrano Wiegerinck</font>"
   ]
  },
  {
   "cell_type": "markdown",
   "metadata": {},
   "source": [
    "## Introdução"
   ]
  },
  {
   "cell_type": "markdown",
   "metadata": {},
   "source": [
    "A variável resposta escolhida foi expectativa de vida, que foi relacionada com as seguintes variáveis explicativas mundiais: PIB per capita, porcentagem de população em áreas urbanas, qualidade da infraestrutura em relação a fonte de água e da higiene pública.   \n",
    "\n",
    "Ao relacionar essas variáveis busca-se averiguar se havia alguma relação entre a situação financeira e social de um país com a expectativa de vida de vida em país. Com o auxílio do site www.gapminder.org foi possível perceber que todas as condições analisadas apresentam uma influência na variável resposta, podendo ser utilizadas como base de pesquisa e estudo.   "
   ]
  },
  {
   "cell_type": "markdown",
   "metadata": {},
   "source": [
    "#### Variável Resposta"
   ]
  },
  {
   "cell_type": "markdown",
   "metadata": {},
   "source": [
    "Expectativa de vida: Essa variável foi escolhida como centro do estudo, pois além de apresentar um grande número de dados, que facilitarão no desenvolvimento do projeto, também foca num dos principais problemas encarados pela sociedade mundial atualmente, assim como no futuro. O planeta possui em torno de 7 bilhões de habitantes e apresenta uma taxa de crescimento alta, devido, a crescente taxa de expectativa de vida e da decrescente taxa de mortalidade no mundo, que pode levar a uma superpopulação do planeta.\n",
    "\n",
    "Em suma, a variável resposta escolhida pode auxiliar no entendimento desse fator de crescimento exponencial da população no planeta, desmestificando esse desafio a ser encarado pelas futuras gerações."
   ]
  },
  {
   "cell_type": "markdown",
   "metadata": {},
   "source": [
    "#### Variáveis Explicativas"
   ]
  },
  {
   "cell_type": "markdown",
   "metadata": {},
   "source": [
    "- % População Urbana: essa variável torna mais claro a relação entre a evolução da sociedade e suas práticas comercias com a expectativa de vida, abordando o problema com um viés sócioeconômico.\n",
    "- PIB per capita: essa variável torna mais claro a relação entre a economia de um país com a expectativa de vida, abordando o problema com um viés econômico.\n",
    "- Qualidade da fonte de água: essa variável torna mais claro a relação entre a qualidade dos suprimentos públicos e a expectaiva de vida, abordando o problema com viés sócio higiênico.\n",
    "- Qualidada da Higiene Pública: essa variável torna mais clara a relação entre qualidade de vida e expectativa de vida, abordando o problema com um viés sócio higiênico."
   ]
  },
  {
   "cell_type": "markdown",
   "metadata": {},
   "source": [
    "## Formatação dos Dados"
   ]
  },
  {
   "cell_type": "markdown",
   "metadata": {},
   "source": [
    "Importando as ferramentas:"
   ]
  },
  {
   "cell_type": "code",
   "execution_count": 1,
   "metadata": {
    "collapsed": false
   },
   "outputs": [
    {
     "name": "stdout",
     "output_type": "stream",
     "text": [
      "Esperamos trabalhar no diretório\n",
      "C:\\Users\\Patrick Wiegerinck\\Documents\\2 Semestre\\Ciência dos Dados\\Projeto_3_CD\n"
     ]
    }
   ],
   "source": [
    "%matplotlib inline\n",
    "\n",
    "import os\n",
    "import matplotlib.pyplot as plt\n",
    "from mpl_toolkits.mplot3d import Axes3D\n",
    "from matplotlib import cm\n",
    "import pandas as pd\n",
    "import numpy as np\n",
    "\n",
    "import statsmodels.api as sm1 #Usa OLS com X como matriz de planejamento\n",
    "import statsmodels.formula.api as sm  #Usa OLS como no R\n",
    "\n",
    "print('Esperamos trabalhar no diretório')\n",
    "print(os.getcwd())"
   ]
  },
  {
   "cell_type": "markdown",
   "metadata": {},
   "source": [
    "Criando um dataframe a partir do banco de dados:"
   ]
  },
  {
   "cell_type": "code",
   "execution_count": 2,
   "metadata": {
    "collapsed": true
   },
   "outputs": [],
   "source": [
    "dados = pd.read_excel('Geral.xlsx',index_col=0)"
   ]
  },
  {
   "cell_type": "markdown",
   "metadata": {},
   "source": [
    "Apresentação inicial do dataframe:"
   ]
  },
  {
   "cell_type": "code",
   "execution_count": 3,
   "metadata": {
    "collapsed": false
   },
   "outputs": [
    {
     "data": {
      "text/html": [
       "<div>\n",
       "<table border=\"1\" class=\"dataframe\">\n",
       "  <thead>\n",
       "    <tr style=\"text-align: right;\">\n",
       "      <th></th>\n",
       "      <th>life</th>\n",
       "      <th>urban</th>\n",
       "      <th>GDP</th>\n",
       "      <th>water</th>\n",
       "      <th>sanitation</th>\n",
       "    </tr>\n",
       "  </thead>\n",
       "  <tbody>\n",
       "    <tr>\n",
       "      <th>NaN</th>\n",
       "      <td>NaN</td>\n",
       "      <td>NaN</td>\n",
       "      <td>NaN</td>\n",
       "      <td>NaN</td>\n",
       "      <td>NaN</td>\n",
       "    </tr>\n",
       "    <tr>\n",
       "      <th>Afghanistan</th>\n",
       "      <td>52.4</td>\n",
       "      <td>22.4248</td>\n",
       "      <td>1298</td>\n",
       "      <td>50</td>\n",
       "      <td>37</td>\n",
       "    </tr>\n",
       "    <tr>\n",
       "      <th>NaN</th>\n",
       "      <td>NaN</td>\n",
       "      <td>NaN</td>\n",
       "      <td>NaN</td>\n",
       "      <td>NaN</td>\n",
       "      <td>NaN</td>\n",
       "    </tr>\n",
       "    <tr>\n",
       "      <th>Albania</th>\n",
       "      <td>76.6</td>\n",
       "      <td>49.0112</td>\n",
       "      <td>7977</td>\n",
       "      <td>95</td>\n",
       "      <td>91</td>\n",
       "    </tr>\n",
       "    <tr>\n",
       "      <th>Algeria</th>\n",
       "      <td>75.3</td>\n",
       "      <td>68.8230</td>\n",
       "      <td>12289</td>\n",
       "      <td>84</td>\n",
       "      <td>94</td>\n",
       "    </tr>\n",
       "  </tbody>\n",
       "</table>\n",
       "</div>"
      ],
      "text/plain": [
       "             life    urban    GDP  water  sanitation\n",
       "NaN           NaN      NaN    NaN    NaN         NaN\n",
       "Afghanistan  52.4  22.4248   1298     50          37\n",
       "NaN           NaN      NaN    NaN    NaN         NaN\n",
       "Albania      76.6  49.0112   7977     95          91\n",
       "Algeria      75.3  68.8230  12289     84          94"
      ]
     },
     "execution_count": 3,
     "metadata": {},
     "output_type": "execute_result"
    }
   ],
   "source": [
    "dados.head()"
   ]
  },
  {
   "cell_type": "markdown",
   "metadata": {},
   "source": [
    "Tamanho do dataframe:"
   ]
  },
  {
   "cell_type": "code",
   "execution_count": 4,
   "metadata": {
    "collapsed": false
   },
   "outputs": [
    {
     "data": {
      "text/plain": [
       "(258, 5)"
      ]
     },
     "execution_count": 4,
     "metadata": {},
     "output_type": "execute_result"
    }
   ],
   "source": [
    "dados.shape"
   ]
  },
  {
   "cell_type": "markdown",
   "metadata": {},
   "source": [
    "Limpando o dataframe:"
   ]
  },
  {
   "cell_type": "code",
   "execution_count": 5,
   "metadata": {
    "collapsed": false
   },
   "outputs": [
    {
     "data": {
      "text/plain": [
       "(169, 5)"
      ]
     },
     "execution_count": 5,
     "metadata": {},
     "output_type": "execute_result"
    }
   ],
   "source": [
    "#Retirar NaN\n",
    "dados=dados[~np.isnan(dados.life)]\n",
    "dados=dados[~np.isnan(dados.urban)]\n",
    "dados=dados[~np.isnan(dados.GDP)]\n",
    "dados.shape"
   ]
  },
  {
   "cell_type": "markdown",
   "metadata": {},
   "source": [
    "Apresentação do dataframe sem espaços em branco:"
   ]
  },
  {
   "cell_type": "code",
   "execution_count": 6,
   "metadata": {
    "collapsed": false
   },
   "outputs": [
    {
     "data": {
      "text/html": [
       "<div>\n",
       "<table border=\"1\" class=\"dataframe\">\n",
       "  <thead>\n",
       "    <tr style=\"text-align: right;\">\n",
       "      <th></th>\n",
       "      <th>life</th>\n",
       "      <th>urban</th>\n",
       "      <th>GDP</th>\n",
       "      <th>water</th>\n",
       "      <th>sanitation</th>\n",
       "    </tr>\n",
       "  </thead>\n",
       "  <tbody>\n",
       "    <tr>\n",
       "      <th>Afghanistan</th>\n",
       "      <td>52.4</td>\n",
       "      <td>22.4248</td>\n",
       "      <td>1298</td>\n",
       "      <td>50</td>\n",
       "      <td>37</td>\n",
       "    </tr>\n",
       "    <tr>\n",
       "      <th>Albania</th>\n",
       "      <td>76.6</td>\n",
       "      <td>49.0112</td>\n",
       "      <td>7977</td>\n",
       "      <td>95</td>\n",
       "      <td>91</td>\n",
       "    </tr>\n",
       "    <tr>\n",
       "      <th>Algeria</th>\n",
       "      <td>75.3</td>\n",
       "      <td>68.8230</td>\n",
       "      <td>12289</td>\n",
       "      <td>84</td>\n",
       "      <td>94</td>\n",
       "    </tr>\n",
       "    <tr>\n",
       "      <th>Andorra</th>\n",
       "      <td>84.5</td>\n",
       "      <td>89.3038</td>\n",
       "      <td>43442</td>\n",
       "      <td>100</td>\n",
       "      <td>100</td>\n",
       "    </tr>\n",
       "    <tr>\n",
       "      <th>Angola</th>\n",
       "      <td>56.2</td>\n",
       "      <td>55.7174</td>\n",
       "      <td>6453</td>\n",
       "      <td>50</td>\n",
       "      <td>54</td>\n",
       "    </tr>\n",
       "  </tbody>\n",
       "</table>\n",
       "</div>"
      ],
      "text/plain": [
       "             life    urban    GDP  water  sanitation\n",
       "Afghanistan  52.4  22.4248   1298     50          37\n",
       "Albania      76.6  49.0112   7977     95          91\n",
       "Algeria      75.3  68.8230  12289     84          94\n",
       "Andorra      84.5  89.3038  43442    100         100\n",
       "Angola       56.2  55.7174   6453     50          54"
      ]
     },
     "execution_count": 6,
     "metadata": {},
     "output_type": "execute_result"
    }
   ],
   "source": [
    "dados.head()"
   ]
  }
 ],
 "metadata": {
  "kernelspec": {
   "display_name": "Python 3",
   "language": "python",
   "name": "python3"
  },
  "language_info": {
   "codemirror_mode": {
    "name": "ipython",
    "version": 3
   },
   "file_extension": ".py",
   "mimetype": "text/x-python",
   "name": "python",
   "nbconvert_exporter": "python",
   "pygments_lexer": "ipython3",
   "version": "3.5.2"
  }
 },
 "nbformat": 4,
 "nbformat_minor": 0
}
